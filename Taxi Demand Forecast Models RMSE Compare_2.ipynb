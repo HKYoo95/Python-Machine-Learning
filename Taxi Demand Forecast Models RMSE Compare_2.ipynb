{
 "cells": [
  {
   "cell_type": "markdown",
   "metadata": {},
   "source": [
    "## import"
   ]
  },
  {
   "cell_type": "code",
   "execution_count": 1,
   "metadata": {
    "ExecuteTime": {
     "end_time": "2020-08-12T06:56:16.907419Z",
     "start_time": "2020-08-12T06:56:16.027505Z"
    }
   },
   "outputs": [],
   "source": [
    "import pandas as pd\n",
    "import matplotlib as mpl\n",
    "import matplotlib.pyplot as plt\n",
    "%matplotlib inline\n",
    "import matplotlib.font_manager as fm\n",
    "from matplotlib import rc\n",
    "\n",
    "# 시각화 그래프 '-' & 한글 깨짐 현상 처리\n",
    "import seaborn as sns\n",
    "import matplotlib as mpl\n",
    "import matplotlib.pyplot as plt\n",
    "plt.style.use('ggplot')\n",
    "import matplotlib.font_manager as fm\n",
    "from matplotlib import rc\n",
    "\n",
    "mpl.rcParams['axes.unicode_minus'] = False\n",
    "font_name = fm.FontProperties(fname='c:\\\\windows\\\\fonts\\\\malgun.ttf').get_name()\n",
    "rc('font', family=font_name)"
   ]
  },
  {
   "cell_type": "markdown",
   "metadata": {},
   "source": [
    "## 검증데이터"
   ]
  },
  {
   "cell_type": "code",
   "execution_count": 2,
   "metadata": {
    "ExecuteTime": {
     "end_time": "2020-08-12T06:56:18.175603Z",
     "start_time": "2020-08-12T06:56:18.130248Z"
    },
    "scrolled": true
   },
   "outputs": [
    {
     "data": {
      "text/html": [
       "<div>\n",
       "<style scoped>\n",
       "    .dataframe tbody tr th:only-of-type {\n",
       "        vertical-align: middle;\n",
       "    }\n",
       "\n",
       "    .dataframe tbody tr th {\n",
       "        vertical-align: top;\n",
       "    }\n",
       "\n",
       "    .dataframe thead th {\n",
       "        text-align: right;\n",
       "    }\n",
       "</style>\n",
       "<table border=\"1\" class=\"dataframe\">\n",
       "  <thead>\n",
       "    <tr style=\"text-align: right;\">\n",
       "      <th></th>\n",
       "      <th>model</th>\n",
       "      <th>flow_pop</th>\n",
       "      <th>val_method</th>\n",
       "      <th>RMSE</th>\n",
       "    </tr>\n",
       "  </thead>\n",
       "  <tbody>\n",
       "    <tr>\n",
       "      <th>0</th>\n",
       "      <td>KerasANN</td>\n",
       "      <td>No</td>\n",
       "      <td>K-fold</td>\n",
       "      <td>27.856</td>\n",
       "    </tr>\n",
       "    <tr>\n",
       "      <th>1</th>\n",
       "      <td>KerasANN</td>\n",
       "      <td>No</td>\n",
       "      <td>TimeSeries</td>\n",
       "      <td>0.000</td>\n",
       "    </tr>\n",
       "    <tr>\n",
       "      <th>2</th>\n",
       "      <td>KerasANN</td>\n",
       "      <td>Yes</td>\n",
       "      <td>K-fold</td>\n",
       "      <td>23.430</td>\n",
       "    </tr>\n",
       "    <tr>\n",
       "      <th>3</th>\n",
       "      <td>KerasANN</td>\n",
       "      <td>Yes</td>\n",
       "      <td>TimeSeries</td>\n",
       "      <td>0.000</td>\n",
       "    </tr>\n",
       "    <tr>\n",
       "      <th>4</th>\n",
       "      <td>RandomForest</td>\n",
       "      <td>No</td>\n",
       "      <td>K-fold</td>\n",
       "      <td>15.852</td>\n",
       "    </tr>\n",
       "    <tr>\n",
       "      <th>5</th>\n",
       "      <td>RandomForest</td>\n",
       "      <td>No</td>\n",
       "      <td>TimeSeries</td>\n",
       "      <td>15.511</td>\n",
       "    </tr>\n",
       "    <tr>\n",
       "      <th>6</th>\n",
       "      <td>RandomForest</td>\n",
       "      <td>Yes</td>\n",
       "      <td>K-fold</td>\n",
       "      <td>15.351</td>\n",
       "    </tr>\n",
       "    <tr>\n",
       "      <th>7</th>\n",
       "      <td>RandomForest</td>\n",
       "      <td>Yes</td>\n",
       "      <td>TimeSeries</td>\n",
       "      <td>15.274</td>\n",
       "    </tr>\n",
       "    <tr>\n",
       "      <th>8</th>\n",
       "      <td>XGBoost</td>\n",
       "      <td>No</td>\n",
       "      <td>K-fold</td>\n",
       "      <td>16.412</td>\n",
       "    </tr>\n",
       "    <tr>\n",
       "      <th>9</th>\n",
       "      <td>XGBoost</td>\n",
       "      <td>No</td>\n",
       "      <td>TimeSeries</td>\n",
       "      <td>16.143</td>\n",
       "    </tr>\n",
       "    <tr>\n",
       "      <th>10</th>\n",
       "      <td>XGBoost</td>\n",
       "      <td>Yes</td>\n",
       "      <td>K-fold</td>\n",
       "      <td>15.992</td>\n",
       "    </tr>\n",
       "    <tr>\n",
       "      <th>11</th>\n",
       "      <td>XGBoost</td>\n",
       "      <td>Yes</td>\n",
       "      <td>TimeSeries</td>\n",
       "      <td>15.575</td>\n",
       "    </tr>\n",
       "  </tbody>\n",
       "</table>\n",
       "</div>"
      ],
      "text/plain": [
       "           model flow_pop  val_method    RMSE\n",
       "0       KerasANN       No      K-fold  27.856\n",
       "1       KerasANN       No  TimeSeries   0.000\n",
       "2       KerasANN      Yes      K-fold  23.430\n",
       "3       KerasANN      Yes  TimeSeries   0.000\n",
       "4   RandomForest       No      K-fold  15.852\n",
       "5   RandomForest       No  TimeSeries  15.511\n",
       "6   RandomForest      Yes      K-fold  15.351\n",
       "7   RandomForest      Yes  TimeSeries  15.274\n",
       "8        XGBoost       No      K-fold  16.412\n",
       "9        XGBoost       No  TimeSeries  16.143\n",
       "10       XGBoost      Yes      K-fold  15.992\n",
       "11       XGBoost      Yes  TimeSeries  15.575"
      ]
     },
     "execution_count": 2,
     "metadata": {},
     "output_type": "execute_result"
    }
   ],
   "source": [
    "data = {'model': ['KerasANN','KerasANN', 'KerasANN','KerasANN',\n",
    "                  'RandomForest','RandomForest', 'RandomForest','RandomForest',\n",
    "                  'XGBoost','XGBoost','XGBoost','XGBoost'],\n",
    "        'flow_pop': ['No', 'No','Yes', 'Yes',\n",
    "                     'No', 'No','Yes', 'Yes',\n",
    "                     'No', 'No','Yes', 'Yes'],\n",
    "        'val_method': ['K-fold', 'TimeSeries','K-fold', 'TimeSeries',\n",
    "                       'K-fold', 'TimeSeries','K-fold', 'TimeSeries',\n",
    "                       'K-fold', 'TimeSeries','K-fold', 'TimeSeries'],\n",
    "        'RMSE' : [27.856,0,23.430,0,\n",
    "                  15.852,15.511,15.351,15.274,\n",
    "                  16.412,16.143,15.992,15.575]}\n",
    "validate = pd.DataFrame(data)\n",
    "validate"
   ]
  },
  {
   "cell_type": "markdown",
   "metadata": {},
   "source": [
    "### K-fold 교차검증"
   ]
  },
  {
   "cell_type": "code",
   "execution_count": 19,
   "metadata": {
    "ExecuteTime": {
     "end_time": "2020-08-12T07:03:10.479895Z",
     "start_time": "2020-08-12T07:03:10.468902Z"
    }
   },
   "outputs": [
    {
     "data": {
      "text/html": [
       "<div>\n",
       "<style scoped>\n",
       "    .dataframe tbody tr th:only-of-type {\n",
       "        vertical-align: middle;\n",
       "    }\n",
       "\n",
       "    .dataframe tbody tr th {\n",
       "        vertical-align: top;\n",
       "    }\n",
       "\n",
       "    .dataframe thead th {\n",
       "        text-align: right;\n",
       "    }\n",
       "</style>\n",
       "<table border=\"1\" class=\"dataframe\">\n",
       "  <thead>\n",
       "    <tr style=\"text-align: right;\">\n",
       "      <th></th>\n",
       "      <th>model</th>\n",
       "      <th>flow_pop</th>\n",
       "      <th>val_method</th>\n",
       "      <th>RMSE</th>\n",
       "    </tr>\n",
       "  </thead>\n",
       "  <tbody>\n",
       "    <tr>\n",
       "      <th>2</th>\n",
       "      <td>KerasANN</td>\n",
       "      <td>Yes</td>\n",
       "      <td>K-fold</td>\n",
       "      <td>23.430</td>\n",
       "    </tr>\n",
       "    <tr>\n",
       "      <th>6</th>\n",
       "      <td>RandomForest</td>\n",
       "      <td>Yes</td>\n",
       "      <td>K-fold</td>\n",
       "      <td>15.351</td>\n",
       "    </tr>\n",
       "    <tr>\n",
       "      <th>10</th>\n",
       "      <td>XGBoost</td>\n",
       "      <td>Yes</td>\n",
       "      <td>K-fold</td>\n",
       "      <td>15.992</td>\n",
       "    </tr>\n",
       "  </tbody>\n",
       "</table>\n",
       "</div>"
      ],
      "text/plain": [
       "           model flow_pop val_method    RMSE\n",
       "2       KerasANN      Yes     K-fold  23.430\n",
       "6   RandomForest      Yes     K-fold  15.351\n",
       "10       XGBoost      Yes     K-fold  15.992"
      ]
     },
     "execution_count": 19,
     "metadata": {},
     "output_type": "execute_result"
    }
   ],
   "source": [
    "validate[(validate['flow_pop']=='Yes') & (validate['val_method']=='K-fold')]"
   ]
  },
  {
   "cell_type": "code",
   "execution_count": 21,
   "metadata": {
    "ExecuteTime": {
     "end_time": "2020-08-12T07:03:55.049517Z",
     "start_time": "2020-08-12T07:03:54.839297Z"
    }
   },
   "outputs": [
    {
     "data": {
      "image/png": "[encoded data removed]",
      "text/plain": [
       "<Figure size 720x432 with 1 Axes>"
      ]
     },
     "metadata": {
      "needs_background": "light"
     },
     "output_type": "display_data"
    }
   ],
   "source": [
    "plt.figure(figsize=(10,6))\n",
    "plt.title('각 모델별 검증데이터 K-flod 교차검증 RMSE')\n",
    "ax = sns.barplot(x = 'model', y = 'RMSE', hue = 'flow_pop', \n",
    "            data=validate[validate['val_method']=='K-fold'].sort_values('RMSE',ascending=False))\n",
    "\n",
    "plt.ylim(0,30)\n",
    "\n",
    "for p in ax.patches: \n",
    "    left, bottom, width, height = p.get_bbox().bounds \n",
    "    ax.annotate(\"%.3f \"%(height), (left+width/2, height*1.02), ha='center')\n",
    "\n",
    "plt.show()"
   ]
  },
  {
   "cell_type": "code",
   "execution_count": 23,
   "metadata": {
    "ExecuteTime": {
     "end_time": "2020-08-12T07:04:47.295599Z",
     "start_time": "2020-08-12T07:04:47.146604Z"
    }
   },
   "outputs": [
    {
     "data": {
      "image/png": "[encoded data removed]",
      "text/plain": [
       "<Figure size 720x432 with 1 Axes>"
      ]
     },
     "metadata": {
      "needs_background": "light"
     },
     "output_type": "display_data"
    }
   ],
   "source": [
    "plt.figure(figsize=(10,6))\n",
    "plt.title('각 모델별 검증 RMSE')\n",
    "ax = sns.barplot(x = 'model', y = 'RMSE', \n",
    "            data=validate[(validate['flow_pop']=='Yes') & (validate['val_method']=='K-fold')].sort_values('RMSE',ascending=False))\n",
    "\n",
    "plt.ylim(0,30)\n",
    "\n",
    "for p in ax.patches: \n",
    "    left, bottom, width, height = p.get_bbox().bounds \n",
    "    ax.annotate(\"%.3f \"%(height), (left+width/2, height*1.02), ha='center')\n",
    "\n",
    "plt.show()"
   ]
  },
  {
   "cell_type": "markdown",
   "metadata": {},
   "source": [
    "### 시계열 분할검증"
   ]
  },
  {
   "cell_type": "code",
   "execution_count": 120,
   "metadata": {
    "ExecuteTime": {
     "end_time": "2020-05-15T05:33:09.439230Z",
     "start_time": "2020-05-15T05:33:09.261343Z"
    }
   },
   "outputs": [
    {
     "data": {
      "image/png": "[encoded data removed]",
      "text/plain": [
       "<Figure size 720x432 with 1 Axes>"
      ]
     },
     "metadata": {},
     "output_type": "display_data"
    }
   ],
   "source": [
    "plt.figure(figsize=(10,6))\n",
    "plt.title('앙상블모델 검증데이터 시계열 분할검증 RMSE')\n",
    "ax = sns.barplot(x = 'model', y = 'RMSE', hue = 'flow_pop',\n",
    "            data=validate[(validate['val_method']=='TimeSeries') & (validate['RMSE']>0)].sort_values('RMSE',ascending=False))\n",
    "\n",
    "plt.ylim(0,30)\n",
    "\n",
    "for p in ax.patches: \n",
    "    left, bottom, width, height = p.get_bbox().bounds \n",
    "    ax.annotate(\"%.3f \"%(height), (left+width/2, height*1.02), ha='center')\n",
    "\n",
    "plt.show()"
   ]
  },
  {
   "cell_type": "markdown",
   "metadata": {},
   "source": [
    "## 전체데이터"
   ]
  },
  {
   "cell_type": "code",
   "execution_count": 90,
   "metadata": {
    "ExecuteTime": {
     "end_time": "2020-05-15T05:10:41.696369Z",
     "start_time": "2020-05-15T05:10:41.673385Z"
    },
    "scrolled": false
   },
   "outputs": [
    {
     "data": {
      "text/html": [
       "<div>\n",
       "<style scoped>\n",
       "    .dataframe tbody tr th:only-of-type {\n",
       "        vertical-align: middle;\n",
       "    }\n",
       "\n",
       "    .dataframe tbody tr th {\n",
       "        vertical-align: top;\n",
       "    }\n",
       "\n",
       "    .dataframe thead th {\n",
       "        text-align: right;\n",
       "    }\n",
       "</style>\n",
       "<table border=\"1\" class=\"dataframe\">\n",
       "  <thead>\n",
       "    <tr style=\"text-align: right;\">\n",
       "      <th></th>\n",
       "      <th>model</th>\n",
       "      <th>flow_pop</th>\n",
       "      <th>val_method</th>\n",
       "      <th>RMSE</th>\n",
       "    </tr>\n",
       "  </thead>\n",
       "  <tbody>\n",
       "    <tr>\n",
       "      <th>0</th>\n",
       "      <td>KerasANN</td>\n",
       "      <td>No</td>\n",
       "      <td>K-fold</td>\n",
       "      <td>23.614</td>\n",
       "    </tr>\n",
       "    <tr>\n",
       "      <th>1</th>\n",
       "      <td>KerasANN</td>\n",
       "      <td>No</td>\n",
       "      <td>TimeSeries</td>\n",
       "      <td>0.000</td>\n",
       "    </tr>\n",
       "    <tr>\n",
       "      <th>2</th>\n",
       "      <td>KerasANN</td>\n",
       "      <td>Yes</td>\n",
       "      <td>K-fold</td>\n",
       "      <td>22.306</td>\n",
       "    </tr>\n",
       "    <tr>\n",
       "      <th>3</th>\n",
       "      <td>KerasANN</td>\n",
       "      <td>Yes</td>\n",
       "      <td>TimeSeries</td>\n",
       "      <td>0.000</td>\n",
       "    </tr>\n",
       "    <tr>\n",
       "      <th>4</th>\n",
       "      <td>RandomForest</td>\n",
       "      <td>No</td>\n",
       "      <td>K-fold</td>\n",
       "      <td>9.841</td>\n",
       "    </tr>\n",
       "    <tr>\n",
       "      <th>5</th>\n",
       "      <td>RandomForest</td>\n",
       "      <td>No</td>\n",
       "      <td>TimeSeries</td>\n",
       "      <td>12.300</td>\n",
       "    </tr>\n",
       "    <tr>\n",
       "      <th>6</th>\n",
       "      <td>RandomForest</td>\n",
       "      <td>Yes</td>\n",
       "      <td>K-fold</td>\n",
       "      <td>9.864</td>\n",
       "    </tr>\n",
       "    <tr>\n",
       "      <th>7</th>\n",
       "      <td>RandomForest</td>\n",
       "      <td>Yes</td>\n",
       "      <td>TimeSeries</td>\n",
       "      <td>9.531</td>\n",
       "    </tr>\n",
       "    <tr>\n",
       "      <th>8</th>\n",
       "      <td>XGBoost</td>\n",
       "      <td>No</td>\n",
       "      <td>K-fold</td>\n",
       "      <td>9.726</td>\n",
       "    </tr>\n",
       "    <tr>\n",
       "      <th>9</th>\n",
       "      <td>XGBoost</td>\n",
       "      <td>No</td>\n",
       "      <td>TimeSeries</td>\n",
       "      <td>8.744</td>\n",
       "    </tr>\n",
       "    <tr>\n",
       "      <th>10</th>\n",
       "      <td>XGBoost</td>\n",
       "      <td>Yes</td>\n",
       "      <td>K-fold</td>\n",
       "      <td>9.317</td>\n",
       "    </tr>\n",
       "    <tr>\n",
       "      <th>11</th>\n",
       "      <td>XGBoost</td>\n",
       "      <td>Yes</td>\n",
       "      <td>TimeSeries</td>\n",
       "      <td>8.419</td>\n",
       "    </tr>\n",
       "  </tbody>\n",
       "</table>\n",
       "</div>"
      ],
      "text/plain": [
       "           model flow_pop  val_method    RMSE\n",
       "0       KerasANN       No      K-fold  23.614\n",
       "1       KerasANN       No  TimeSeries   0.000\n",
       "2       KerasANN      Yes      K-fold  22.306\n",
       "3       KerasANN      Yes  TimeSeries   0.000\n",
       "4   RandomForest       No      K-fold   9.841\n",
       "5   RandomForest       No  TimeSeries  12.300\n",
       "6   RandomForest      Yes      K-fold   9.864\n",
       "7   RandomForest      Yes  TimeSeries   9.531\n",
       "8        XGBoost       No      K-fold   9.726\n",
       "9        XGBoost       No  TimeSeries   8.744\n",
       "10       XGBoost      Yes      K-fold   9.317\n",
       "11       XGBoost      Yes  TimeSeries   8.419"
      ]
     },
     "execution_count": 90,
     "metadata": {},
     "output_type": "execute_result"
    }
   ],
   "source": [
    "data = {'model': ['KerasANN','KerasANN', 'KerasANN','KerasANN',\n",
    "                  'RandomForest','RandomForest', 'RandomForest','RandomForest',\n",
    "                  'XGBoost','XGBoost','XGBoost','XGBoost'],\n",
    "        'flow_pop': ['No', 'No','Yes', 'Yes',\n",
    "                     'No', 'No','Yes', 'Yes',\n",
    "                     'No', 'No','Yes', 'Yes'],\n",
    "        'val_method': ['K-fold', 'TimeSeries','K-fold', 'TimeSeries',\n",
    "                       'K-fold', 'TimeSeries','K-fold', 'TimeSeries',\n",
    "                       'K-fold', 'TimeSeries','K-fold', 'TimeSeries'],\n",
    "        'RMSE' : [23.614,0,22.306,0,\n",
    "                  9.841,12.300,9.864,9.531,\n",
    "                  9.726,8.744,9.317,8.419]}\n",
    "total = pd.DataFrame(data)\n",
    "total"
   ]
  },
  {
   "cell_type": "markdown",
   "metadata": {},
   "source": [
    "### K-fold 교차검증"
   ]
  },
  {
   "cell_type": "code",
   "execution_count": 118,
   "metadata": {
    "ExecuteTime": {
     "end_time": "2020-05-15T05:30:01.244437Z",
     "start_time": "2020-05-15T05:30:01.051559Z"
    },
    "scrolled": false
   },
   "outputs": [
    {
     "data": {
      "image/png": "[encoded data removed]",
      "text/plain": [
       "<Figure size 720x432 with 1 Axes>"
      ]
     },
     "metadata": {},
     "output_type": "display_data"
    }
   ],
   "source": [
    "plt.figure(figsize=(10,6))\n",
    "plt.title('각 모델별 전체데이터 K-flod 교차검증 RMSE')\n",
    "ax = sns.barplot(x = 'model', y = 'RMSE', hue = 'flow_pop', \n",
    "            data=total[total['val_method']=='K-fold'].sort_values('RMSE',ascending=False))\n",
    "\n",
    "plt.ylim(0,30)\n",
    "\n",
    "for p in ax.patches: \n",
    "    left, bottom, width, height = p.get_bbox().bounds \n",
    "    ax.annotate(\"%.3f \"%(height), (left+width/2, height*1.02), ha='center')\n",
    "\n",
    "plt.show()"
   ]
  },
  {
   "cell_type": "markdown",
   "metadata": {},
   "source": [
    "### 시계열 분할검증"
   ]
  },
  {
   "cell_type": "code",
   "execution_count": 119,
   "metadata": {
    "ExecuteTime": {
     "end_time": "2020-05-15T05:33:05.028166Z",
     "start_time": "2020-05-15T05:33:04.854274Z"
    },
    "scrolled": false
   },
   "outputs": [
    {
     "data": {
      "image/png": "[encoded data removed]",
      "text/plain": [
       "<Figure size 720x432 with 1 Axes>"
      ]
     },
     "metadata": {},
     "output_type": "display_data"
    }
   ],
   "source": [
    "plt.figure(figsize=(10,6))\n",
    "plt.title('앙상블모델 전체데이터 시계열 분할검증 RMSE')\n",
    "ax = sns.barplot(x = 'model', y = 'RMSE', hue = 'flow_pop',\n",
    "            data=total[(total['val_method']=='TimeSeries') & (total['RMSE']>0)].sort_values('RMSE',ascending=False))\n",
    "\n",
    "plt.ylim(0,30)\n",
    "\n",
    "for p in ax.patches: \n",
    "    left, bottom, width, height = p.get_bbox().bounds \n",
    "    ax.annotate(\"%.3f \"%(height), (left+width/2, height*1.02), ha='center')\n",
    "\n",
    "plt.show()"
   ]
  }
 ],
 "metadata": {
  "kernelspec": {
   "display_name": "Python 3",
   "language": "python",
   "name": "python3"
  },
  "language_info": {
   "codemirror_mode": {
    "name": "ipython",
    "version": 3
   },
   "file_extension": ".py",
   "mimetype": "text/x-python",
   "name": "python",
   "nbconvert_exporter": "python",
   "pygments_lexer": "ipython3",
   "version": "3.7.3"
  },
  "toc": {
   "base_numbering": 1,
   "nav_menu": {},
   "number_sections": true,
   "sideBar": true,
   "skip_h1_title": false,
   "title_cell": "Table of Contents",
   "title_sidebar": "Contents",
   "toc_cell": false,
   "toc_position": {},
   "toc_section_display": true,
   "toc_window_display": false
  },
  "varInspector": {
   "cols": {
    "lenName": 16,
    "lenType": 16,
    "lenVar": 40
   },
   "kernels_config": {
    "python": {
     "delete_cmd_postfix": "",
     "delete_cmd_prefix": "del ",
     "library": "var_list.py",
     "varRefreshCmd": "print(var_dic_list())"
    },
    "r": {
     "delete_cmd_postfix": ") ",
     "delete_cmd_prefix": "rm(",
     "library": "var_list.r",
     "varRefreshCmd": "cat(var_dic_list()) "
    }
   },
   "types_to_exclude": [
    "module",
    "function",
    "builtin_function_or_method",
    "instance",
    "_Feature"
   ],
   "window_display": false
  }
 },
 "nbformat": 4,
 "nbformat_minor": 2
}
