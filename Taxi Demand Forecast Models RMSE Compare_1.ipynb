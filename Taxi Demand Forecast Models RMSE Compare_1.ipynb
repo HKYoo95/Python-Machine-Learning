{
 "cells": [
  {
   "cell_type": "code",
   "execution_count": 11,
   "metadata": {
    "ExecuteTime": {
     "end_time": "2020-05-14T08:16:10.185724Z",
     "start_time": "2020-05-14T08:16:10.170098Z"
    }
   },
   "outputs": [],
   "source": [
    "import pandas as pd\n",
    "import matplotlib as mpl\n",
    "import matplotlib.pyplot as plt\n",
    "%matplotlib inline\n",
    "import matplotlib.font_manager as fm\n",
    "from matplotlib import rc\n",
    "\n",
    "# 시각화 그래프 '-' & 한글 깨짐 현상 처리\n",
    "import seaborn as sns\n",
    "import matplotlib as mpl\n",
    "import matplotlib.pyplot as plt\n",
    "import matplotlib.font_manager as fm\n",
    "from matplotlib import rc\n",
    "\n",
    "mpl.rcParams['axes.unicode_minus'] = False\n",
    "font_name = fm.FontProperties(fname='c:\\\\windows\\\\fonts\\\\malgun.ttf').get_name()\n",
    "rc('font', family=font_name)"
   ]
  },
  {
   "cell_type": "code",
   "execution_count": 4,
   "metadata": {
    "ExecuteTime": {
     "end_time": "2020-05-14T08:06:08.104176Z",
     "start_time": "2020-05-14T08:06:08.072927Z"
    },
    "scrolled": true
   },
   "outputs": [
    {
     "data": {
      "text/html": [
       "<div>\n",
       "<style scoped>\n",
       "    .dataframe tbody tr th:only-of-type {\n",
       "        vertical-align: middle;\n",
       "    }\n",
       "\n",
       "    .dataframe tbody tr th {\n",
       "        vertical-align: top;\n",
       "    }\n",
       "\n",
       "    .dataframe thead th {\n",
       "        text-align: right;\n",
       "    }\n",
       "</style>\n",
       "<table border=\"1\" class=\"dataframe\">\n",
       "  <thead>\n",
       "    <tr style=\"text-align: right;\">\n",
       "      <th></th>\n",
       "      <th>model</th>\n",
       "      <th>flow_pop</th>\n",
       "      <th>test/total</th>\n",
       "      <th>RMSE</th>\n",
       "    </tr>\n",
       "  </thead>\n",
       "  <tbody>\n",
       "    <tr>\n",
       "      <th>0</th>\n",
       "      <td>KerasANN</td>\n",
       "      <td>No</td>\n",
       "      <td>test</td>\n",
       "      <td>27.856</td>\n",
       "    </tr>\n",
       "    <tr>\n",
       "      <th>1</th>\n",
       "      <td>KerasANN</td>\n",
       "      <td>No</td>\n",
       "      <td>total</td>\n",
       "      <td>23.614</td>\n",
       "    </tr>\n",
       "    <tr>\n",
       "      <th>2</th>\n",
       "      <td>KerasANN</td>\n",
       "      <td>Yes</td>\n",
       "      <td>test</td>\n",
       "      <td>23.430</td>\n",
       "    </tr>\n",
       "    <tr>\n",
       "      <th>3</th>\n",
       "      <td>KerasANN</td>\n",
       "      <td>Yes</td>\n",
       "      <td>total</td>\n",
       "      <td>22.306</td>\n",
       "    </tr>\n",
       "    <tr>\n",
       "      <th>4</th>\n",
       "      <td>RandomForest</td>\n",
       "      <td>No</td>\n",
       "      <td>test</td>\n",
       "      <td>16.388</td>\n",
       "    </tr>\n",
       "    <tr>\n",
       "      <th>5</th>\n",
       "      <td>RandomForest</td>\n",
       "      <td>No</td>\n",
       "      <td>total</td>\n",
       "      <td>10.584</td>\n",
       "    </tr>\n",
       "    <tr>\n",
       "      <th>6</th>\n",
       "      <td>RandomForest</td>\n",
       "      <td>Yes</td>\n",
       "      <td>test</td>\n",
       "      <td>15.657</td>\n",
       "    </tr>\n",
       "    <tr>\n",
       "      <th>7</th>\n",
       "      <td>RandomForest</td>\n",
       "      <td>Yes</td>\n",
       "      <td>total</td>\n",
       "      <td>10.393</td>\n",
       "    </tr>\n",
       "    <tr>\n",
       "      <th>8</th>\n",
       "      <td>XGBoost</td>\n",
       "      <td>No</td>\n",
       "      <td>test</td>\n",
       "      <td>21.218</td>\n",
       "    </tr>\n",
       "    <tr>\n",
       "      <th>9</th>\n",
       "      <td>XGBoost</td>\n",
       "      <td>No</td>\n",
       "      <td>total</td>\n",
       "      <td>20.928</td>\n",
       "    </tr>\n",
       "    <tr>\n",
       "      <th>10</th>\n",
       "      <td>XGBoost</td>\n",
       "      <td>Yes</td>\n",
       "      <td>test</td>\n",
       "      <td>18.892</td>\n",
       "    </tr>\n",
       "    <tr>\n",
       "      <th>11</th>\n",
       "      <td>XGBoost</td>\n",
       "      <td>Yes</td>\n",
       "      <td>total</td>\n",
       "      <td>17.946</td>\n",
       "    </tr>\n",
       "  </tbody>\n",
       "</table>\n",
       "</div>"
      ],
      "text/plain": [
       "           model flow_pop test/total    RMSE\n",
       "0       KerasANN       No       test  27.856\n",
       "1       KerasANN       No      total  23.614\n",
       "2       KerasANN      Yes       test  23.430\n",
       "3       KerasANN      Yes      total  22.306\n",
       "4   RandomForest       No       test  16.388\n",
       "5   RandomForest       No      total  10.584\n",
       "6   RandomForest      Yes       test  15.657\n",
       "7   RandomForest      Yes      total  10.393\n",
       "8        XGBoost       No       test  21.218\n",
       "9        XGBoost       No      total  20.928\n",
       "10       XGBoost      Yes       test  18.892\n",
       "11       XGBoost      Yes      total  17.946"
      ]
     },
     "execution_count": 4,
     "metadata": {},
     "output_type": "execute_result"
    }
   ],
   "source": [
    "data = {'model': ['KerasANN','KerasANN', 'KerasANN','KerasANN',\n",
    "                  'RandomForest','RandomForest', 'RandomForest','RandomForest',\n",
    "                  'XGBoost','XGBoost','XGBoost','XGBoost'],\n",
    "        'flow_pop': ['No', 'No','Yes', 'Yes',\n",
    "                     'No', 'No','Yes', 'Yes',\n",
    "                    'No', 'No','Yes', 'Yes'],\n",
    "        'test/total': ['test', 'total','test', 'total',\n",
    "                      'test', 'total','test', 'total',\n",
    "                      'test', 'total','test', 'total'],\n",
    "        'RMSE' : [27.856,23.614,23.430,22.306,\n",
    "                 16.388,10.584,15.657,10.393,\n",
    "                 21.218,20.928,18.892,17.946]}\n",
    "basic = pd.DataFrame(data)\n",
    "basic"
   ]
  },
  {
   "cell_type": "code",
   "execution_count": 50,
   "metadata": {
    "ExecuteTime": {
     "end_time": "2020-05-14T09:29:27.304671Z",
     "start_time": "2020-05-14T09:29:26.882815Z"
    }
   },
   "outputs": [
    {
     "data": {
      "image/png": "[encoded data removed]",
      "text/plain": [
       "<Figure size 771.359x360 with 2 Axes>"
      ]
     },
     "metadata": {
      "needs_background": "light"
     },
     "output_type": "display_data"
    }
   ],
   "source": [
    "g = sns.catplot(x = 'model', y = 'RMSE', hue = 'flow_pop', col='test/total',\n",
    "            kind='bar',data=basic.sort_values('RMSE',ascending=False))"
   ]
  },
  {
   "cell_type": "code",
   "execution_count": 23,
   "metadata": {
    "ExecuteTime": {
     "end_time": "2020-05-14T09:10:06.050842Z",
     "start_time": "2020-05-14T09:10:05.988357Z"
    },
    "scrolled": true
   },
   "outputs": [
    {
     "data": {
      "text/html": [
       "<div>\n",
       "<style scoped>\n",
       "    .dataframe tbody tr th:only-of-type {\n",
       "        vertical-align: middle;\n",
       "    }\n",
       "\n",
       "    .dataframe tbody tr th {\n",
       "        vertical-align: top;\n",
       "    }\n",
       "\n",
       "    .dataframe thead th {\n",
       "        text-align: right;\n",
       "    }\n",
       "</style>\n",
       "<table border=\"1\" class=\"dataframe\">\n",
       "  <thead>\n",
       "    <tr style=\"text-align: right;\">\n",
       "      <th></th>\n",
       "      <th>model</th>\n",
       "      <th>flow_pop</th>\n",
       "      <th>test/total</th>\n",
       "      <th>validate</th>\n",
       "      <th>RMSE</th>\n",
       "    </tr>\n",
       "  </thead>\n",
       "  <tbody>\n",
       "    <tr>\n",
       "      <th>0</th>\n",
       "      <td>RandomForest</td>\n",
       "      <td>No</td>\n",
       "      <td>test</td>\n",
       "      <td>K-fold</td>\n",
       "      <td>15.852</td>\n",
       "    </tr>\n",
       "    <tr>\n",
       "      <th>1</th>\n",
       "      <td>RandomForest</td>\n",
       "      <td>No</td>\n",
       "      <td>test</td>\n",
       "      <td>TimeSeries</td>\n",
       "      <td>15.511</td>\n",
       "    </tr>\n",
       "    <tr>\n",
       "      <th>2</th>\n",
       "      <td>RandomForest</td>\n",
       "      <td>No</td>\n",
       "      <td>total</td>\n",
       "      <td>K-fold</td>\n",
       "      <td>9.841</td>\n",
       "    </tr>\n",
       "    <tr>\n",
       "      <th>3</th>\n",
       "      <td>RandomForest</td>\n",
       "      <td>No</td>\n",
       "      <td>total</td>\n",
       "      <td>TimeSeries</td>\n",
       "      <td>12.300</td>\n",
       "    </tr>\n",
       "    <tr>\n",
       "      <th>4</th>\n",
       "      <td>RandomForest</td>\n",
       "      <td>Yes</td>\n",
       "      <td>test</td>\n",
       "      <td>K-fold</td>\n",
       "      <td>15.351</td>\n",
       "    </tr>\n",
       "    <tr>\n",
       "      <th>5</th>\n",
       "      <td>RandomForest</td>\n",
       "      <td>Yes</td>\n",
       "      <td>test</td>\n",
       "      <td>TimeSeries</td>\n",
       "      <td>15.274</td>\n",
       "    </tr>\n",
       "    <tr>\n",
       "      <th>6</th>\n",
       "      <td>RandomForest</td>\n",
       "      <td>Yes</td>\n",
       "      <td>total</td>\n",
       "      <td>K-fold</td>\n",
       "      <td>9.864</td>\n",
       "    </tr>\n",
       "    <tr>\n",
       "      <th>7</th>\n",
       "      <td>RandomForest</td>\n",
       "      <td>Yes</td>\n",
       "      <td>total</td>\n",
       "      <td>TimeSeries</td>\n",
       "      <td>9.531</td>\n",
       "    </tr>\n",
       "    <tr>\n",
       "      <th>8</th>\n",
       "      <td>XGBoost</td>\n",
       "      <td>No</td>\n",
       "      <td>test</td>\n",
       "      <td>K-fold</td>\n",
       "      <td>16.412</td>\n",
       "    </tr>\n",
       "    <tr>\n",
       "      <th>9</th>\n",
       "      <td>XGBoost</td>\n",
       "      <td>No</td>\n",
       "      <td>test</td>\n",
       "      <td>TimeSeries</td>\n",
       "      <td>16.143</td>\n",
       "    </tr>\n",
       "    <tr>\n",
       "      <th>10</th>\n",
       "      <td>XGBoost</td>\n",
       "      <td>No</td>\n",
       "      <td>total</td>\n",
       "      <td>K-fold</td>\n",
       "      <td>9.726</td>\n",
       "    </tr>\n",
       "    <tr>\n",
       "      <th>11</th>\n",
       "      <td>XGBoost</td>\n",
       "      <td>No</td>\n",
       "      <td>total</td>\n",
       "      <td>TimeSeries</td>\n",
       "      <td>8.744</td>\n",
       "    </tr>\n",
       "    <tr>\n",
       "      <th>12</th>\n",
       "      <td>XGBoost</td>\n",
       "      <td>Yes</td>\n",
       "      <td>test</td>\n",
       "      <td>K-fold</td>\n",
       "      <td>15.992</td>\n",
       "    </tr>\n",
       "    <tr>\n",
       "      <th>13</th>\n",
       "      <td>XGBoost</td>\n",
       "      <td>Yes</td>\n",
       "      <td>test</td>\n",
       "      <td>TimeSeries</td>\n",
       "      <td>15.575</td>\n",
       "    </tr>\n",
       "    <tr>\n",
       "      <th>14</th>\n",
       "      <td>XGBoost</td>\n",
       "      <td>Yes</td>\n",
       "      <td>total</td>\n",
       "      <td>K-fold</td>\n",
       "      <td>9.317</td>\n",
       "    </tr>\n",
       "    <tr>\n",
       "      <th>15</th>\n",
       "      <td>XGBoost</td>\n",
       "      <td>Yes</td>\n",
       "      <td>total</td>\n",
       "      <td>TimeSeries</td>\n",
       "      <td>8.419</td>\n",
       "    </tr>\n",
       "  </tbody>\n",
       "</table>\n",
       "</div>"
      ],
      "text/plain": [
       "           model flow_pop test/total    validate    RMSE\n",
       "0   RandomForest       No       test      K-fold  15.852\n",
       "1   RandomForest       No       test  TimeSeries  15.511\n",
       "2   RandomForest       No      total      K-fold   9.841\n",
       "3   RandomForest       No      total  TimeSeries  12.300\n",
       "4   RandomForest      Yes       test      K-fold  15.351\n",
       "5   RandomForest      Yes       test  TimeSeries  15.274\n",
       "6   RandomForest      Yes      total      K-fold   9.864\n",
       "7   RandomForest      Yes      total  TimeSeries   9.531\n",
       "8        XGBoost       No       test      K-fold  16.412\n",
       "9        XGBoost       No       test  TimeSeries  16.143\n",
       "10       XGBoost       No      total      K-fold   9.726\n",
       "11       XGBoost       No      total  TimeSeries   8.744\n",
       "12       XGBoost      Yes       test      K-fold  15.992\n",
       "13       XGBoost      Yes       test  TimeSeries  15.575\n",
       "14       XGBoost      Yes      total      K-fold   9.317\n",
       "15       XGBoost      Yes      total  TimeSeries   8.419"
      ]
     },
     "execution_count": 23,
     "metadata": {},
     "output_type": "execute_result"
    }
   ],
   "source": [
    "data = {'model': ['RandomForest','RandomForest', 'RandomForest','RandomForest',\n",
    "                  'RandomForest','RandomForest', 'RandomForest','RandomForest',\n",
    "                  'XGBoost','XGBoost','XGBoost','XGBoost',\n",
    "                  'XGBoost','XGBoost','XGBoost','XGBoost'],\n",
    "        'flow_pop': ['No', 'No','No', 'No',\n",
    "                     'Yes', 'Yes','Yes', 'Yes',\n",
    "                     'No', 'No','No', 'No',\n",
    "                     'Yes', 'Yes','Yes', 'Yes'],\n",
    "        'test/total': ['test', 'test','total', 'total',\n",
    "                      'test', 'test','total', 'total',\n",
    "                      'test', 'test','total', 'total',\n",
    "                      'test', 'test','total', 'total'],\n",
    "        'validate' : ['K-fold','TimeSeries','K-fold','TimeSeries',\n",
    "                      'K-fold','TimeSeries','K-fold','TimeSeries',\n",
    "                      'K-fold','TimeSeries','K-fold','TimeSeries',\n",
    "                      'K-fold','TimeSeries','K-fold','TimeSeries'],\n",
    "        'RMSE' : [15.852,15.511,9.841,12.300,\n",
    "                 15.351,15.274,9.864,9.531,\n",
    "                 16.412,16.143,9.726,8.744,\n",
    "                 15.992,15.575,9.317,8.419]}\n",
    "tuning = pd.DataFrame(data)\n",
    "tuning"
   ]
  },
  {
   "cell_type": "code",
   "execution_count": 46,
   "metadata": {
    "ExecuteTime": {
     "end_time": "2020-05-14T09:27:15.112445Z",
     "start_time": "2020-05-14T09:27:14.721834Z"
    }
   },
   "outputs": [
    {
     "data": {
      "image/png": "[encoded data removed]",
      "text/plain": [
       "<Figure size 771.359x360 with 2 Axes>"
      ]
     },
     "metadata": {
      "needs_background": "light"
     },
     "output_type": "display_data"
    }
   ],
   "source": [
    "g = sns.catplot(x = 'model', y = 'RMSE', hue = 'flow_pop', col='validate',\n",
    "            kind='bar',data=tuning[tuning['test/total']=='test'].sort_values('RMSE',ascending=False))"
   ]
  },
  {
   "cell_type": "code",
   "execution_count": 47,
   "metadata": {
    "ExecuteTime": {
     "end_time": "2020-05-14T09:27:28.737926Z",
     "start_time": "2020-05-14T09:27:28.347317Z"
    }
   },
   "outputs": [
    {
     "data": {
      "image/png": "[encoded data removed]",
      "text/plain": [
       "<Figure size 771.359x360 with 2 Axes>"
      ]
     },
     "metadata": {
      "needs_background": "light"
     },
     "output_type": "display_data"
    }
   ],
   "source": [
    "g = sns.catplot(x = 'model', y = 'RMSE', hue = 'flow_pop', col='validate',\n",
    "            kind='bar',data=tuning[tuning['test/total']=='total'].sort_values('RMSE',ascending=False))"
   ]
  }
 ],
 "metadata": {
  "kernelspec": {
   "display_name": "Python 3",
   "language": "python",
   "name": "python3"
  },
  "language_info": {
   "codemirror_mode": {
    "name": "ipython",
    "version": 3
   },
   "file_extension": ".py",
   "mimetype": "text/x-python",
   "name": "python",
   "nbconvert_exporter": "python",
   "pygments_lexer": "ipython3",
   "version": "3.7.3"
  },
  "toc": {
   "base_numbering": 1,
   "nav_menu": {},
   "number_sections": true,
   "sideBar": true,
   "skip_h1_title": false,
   "title_cell": "Table of Contents",
   "title_sidebar": "Contents",
   "toc_cell": false,
   "toc_position": {},
   "toc_section_display": true,
   "toc_window_display": false
  },
  "varInspector": {
   "cols": {
    "lenName": 16,
    "lenType": 16,
    "lenVar": 40
   },
   "kernels_config": {
    "python": {
     "delete_cmd_postfix": "",
     "delete_cmd_prefix": "del ",
     "library": "var_list.py",
     "varRefreshCmd": "print(var_dic_list())"
    },
    "r": {
     "delete_cmd_postfix": ") ",
     "delete_cmd_prefix": "rm(",
     "library": "var_list.r",
     "varRefreshCmd": "cat(var_dic_list()) "
    }
   },
   "types_to_exclude": [
    "module",
    "function",
    "builtin_function_or_method",
    "instance",
    "_Feature"
   ],
   "window_display": false
  }
 },
 "nbformat": 4,
 "nbformat_minor": 2
}
